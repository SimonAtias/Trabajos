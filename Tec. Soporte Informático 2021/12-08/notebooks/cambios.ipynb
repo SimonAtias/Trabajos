{
 "cells": [
  {
   "cell_type": "code",
   "execution_count": 38,
   "metadata": {
    "collapsed": true
   },
   "outputs": [
    {
     "name": "stdout",
     "output_type": "stream",
     "text": [
      "    Edad  Altura  Peso  Promedio  Sexo      LU      Observacion\n",
      "0     25    1.80    83      7.79     h  125/89          ninguna\n",
      "1     21    1.89    86       9.7     h   35/88          ninguna\n",
      "2     39    1.54    50       7.1     m  142/80     hipertension\n",
      "3     49    1.66    70      6.54     m  553/83          ninguna\n",
      "4     31    1.70    81      7.21     h  495/83     hipertension\n",
      "5     33    1.74    93       7.1     h   25/78          ninguna\n",
      "6     29    1.81    82       6.9     h  445/81          ninguna\n",
      "7     19    1.82    86      8.43     h    5/84          ninguna\n",
      "8     20    1.76    75        10     m    1/81          ninguna\n",
      "10    32    1.64    60      9.10     m  400/80          ninguna\n",
      "11    59    1.70    67      8.99    nb  100/89          ninguna\n",
      "13    49    1.78   432      7.41     h  500/86  dolor de cabeza\n",
      "14    51    1.77    75      9.10     h   25/85     hipertension\n",
      "17    41    1.80     8       9.2     h  099/89          ninguna\n",
      "19    28    1.68    68      7.54     m  145/81          ninguna\n"
     ]
    }
   ],
   "source": [
    "import numpy as np\n",
    "import pandas as pd\n",
    "import matplotlib as plt\n",
    "\n",
    "def convertir_en_minusculas(valor):\n",
    "  if type(valor) == str:\n",
    "    return valor.lower()\n",
    "  else:\n",
    "    return valor\n",
    "\n",
    "def sacar_espacios(valor):\n",
    "    if type(valor) == str:\n",
    "        return valor.replace(\" \", \"\")\n",
    "    else:\n",
    "        return valor\n",
    "\n",
    "def hacer_nan(valor): # no c pq, pero funciona lol\n",
    "    if type(valor) == str:\n",
    "        if valor == \"nan\" or valor == \"\" or valor == \"\":\n",
    "            return np.nan\n",
    "    return valor\n",
    "\n",
    "def arreglar_altura(valor):\n",
    "    valor = str(valor)\n",
    "    return valor.replace(\"m\",\"\")\n",
    "\n",
    "def arreglar_peso(valor):\n",
    "    valor = str(valor)\n",
    "    for character in valor:\n",
    "        if not character.isnumeric():\n",
    "            return valor.split(character, 1)[0]\n",
    "    return valor\n",
    "\n",
    "def arreglar_sexo(valor):\n",
    "    if \"mu\" in valor:\n",
    "        return \"m\"\n",
    "    if \"ho\" in valor:\n",
    "        return \"h\"\n",
    "    if \"binari\" in valor:\n",
    "        return \"nb\"\n",
    "    if \"h\" in valor or \"m\" in valor or \"nb\" in valor:\n",
    "        return valor\n",
    "    return np.nan\n",
    "\n",
    "def arreglar_lu(valor):\n",
    "    valor = str(valor)\n",
    "    valor_list = list(valor)\n",
    "    if valor[len(valor)-3] != \"/\" :\n",
    "        if valor[len(valor)-3].isnumeric():\n",
    "            valor_list.insert(len(valor_list)-2, \"/\")\n",
    "        else:\n",
    "            valor_list[len(valor_list)-3] = \"/\"\n",
    "    elif valor[len(valor)-4] == \"/\" :\n",
    "        valor_list[len(valor)-4] = \"\"\n",
    "    return \"\".join(valor_list)\n",
    "\n",
    "def arreglar_obs(valor):\n",
    "    valor = str(valor)\n",
    "    if \"hiper\" in valor and \"tens\" in valor:\n",
    "        return \"hipertension\"\n",
    "    if \"dolor\" in valor and \"cabeza\" in valor:\n",
    "        return \"dolor de cabeza\"\n",
    "    return \"ninguna\"\n",
    "\n",
    "df = pd.read_csv(\"../data/datos_a_modificar.csv\")\n",
    "df = df.applymap(convertir_en_minusculas)\n",
    "df = df.applymap(sacar_espacios)\n",
    "df = df.applymap(hacer_nan)\n",
    "df[\" Altura\"] = df[\" Altura\"].apply(arreglar_altura)\n",
    "df[\" Peso\"] = df[\" Peso\"].apply(arreglar_peso)\n",
    "df[\" Sexo\"] = df[\" Sexo\"].apply(arreglar_sexo)\n",
    "df = df.applymap(hacer_nan)\n",
    "df.dropna(inplace=True)\n",
    "df[\" LU\"] = df[\" LU\"].apply(arreglar_lu)\n",
    "df[\" Observacion\"] = df[\" Observacion\"].apply(arreglar_obs)\n",
    "print(df)\n"
   ]
  },
  {
   "cell_type": "code",
   "execution_count": null,
   "outputs": [],
   "source": [],
   "metadata": {
    "collapsed": false,
    "pycharm": {
     "name": "#%%\n"
    }
   }
  }
 ],
 "metadata": {
  "kernelspec": {
   "display_name": "Python 3",
   "language": "python",
   "name": "python3"
  },
  "language_info": {
   "codemirror_mode": {
    "name": "ipython",
    "version": 2
   },
   "file_extension": ".py",
   "mimetype": "text/x-python",
   "name": "python",
   "nbconvert_exporter": "python",
   "pygments_lexer": "ipython2",
   "version": "2.7.6"
  }
 },
 "nbformat": 4,
 "nbformat_minor": 0
}