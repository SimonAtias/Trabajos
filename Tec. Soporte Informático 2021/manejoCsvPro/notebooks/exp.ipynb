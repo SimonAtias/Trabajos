{
 "cells": [
  {
   "cell_type": "code",
   "execution_count": 23,
   "metadata": {
    "pycharm": {
     "name": "#%%\n"
    }
   },
   "outputs": [
    {
     "name": "stdout",
     "output_type": "stream",
     "text": [
      "    incendio_anio  incendio_total_numero  incendio_negligencia_numero  \\\n",
      "0            1993                      0                          0.0   \n",
      "1            1994                     38                         29.0   \n",
      "2            1995                     11                          3.0   \n",
      "3            1996                     62                         57.0   \n",
      "4            1997                    114                         16.0   \n",
      "5            1998                     84                         39.0   \n",
      "6            1999                    100                         45.0   \n",
      "7            2000                     37                         23.0   \n",
      "8            2001                     39                         17.0   \n",
      "9            2002                     86                          5.0   \n",
      "10           2003                     22                          6.0   \n",
      "11           2004                     43                          6.0   \n",
      "12           2005                     61                          6.0   \n",
      "13           2006                     50                         11.0   \n",
      "14           2007                     59                          3.0   \n",
      "15           2008                     58                          2.0   \n",
      "16           2009                     31                          5.0   \n",
      "17           2010                     22                          3.0   \n",
      "18           2011                     12                          1.0   \n",
      "19           2012                      8                          4.0   \n",
      "20           2013                     21                          7.0   \n",
      "21           2014                     17                          2.0   \n",
      "22           2015                     31                          1.0   \n",
      "23           2016                     41                          4.0   \n",
      "24           2017                     48                         12.0   \n",
      "25           2018                     70                          6.0   \n",
      "26           2019                     13                          NaN   \n",
      "\n",
      "    incendio_intencional_numero  incendio_natural_numero  \\\n",
      "0                             0                        0   \n",
      "1                             0                        0   \n",
      "2                             0                        0   \n",
      "3                             2                        2   \n",
      "4                            80                        4   \n",
      "5                             7                        9   \n",
      "6                            27                       21   \n",
      "7                             6                        4   \n",
      "8                             4                        2   \n",
      "9                             3                       38   \n",
      "10                            1                        1   \n",
      "11                            1                       12   \n",
      "12                            2                        5   \n",
      "13                           10                        3   \n",
      "14                           21                        3   \n",
      "15                            6                        6   \n",
      "16                            4                        1   \n",
      "17                            0                        7   \n",
      "18                            0                        4   \n",
      "19                            1                        0   \n",
      "20                            9                        0   \n",
      "21                            2                        1   \n",
      "22                            2                       10   \n",
      "23                           10                        8   \n",
      "24                           26                        4   \n",
      "25                           41                        3   \n",
      "26                           10                        0   \n",
      "\n",
      "    incendio_desconocida_numero  \n",
      "0                             0  \n",
      "1                             9  \n",
      "2                             8  \n",
      "3                             1  \n",
      "4                            14  \n",
      "5                            29  \n",
      "6                             7  \n",
      "7                             4  \n",
      "8                            16  \n",
      "9                            40  \n",
      "10                           14  \n",
      "11                           24  \n",
      "12                           48  \n",
      "13                           26  \n",
      "14                           32  \n",
      "15                           44  \n",
      "16                           21  \n",
      "17                           12  \n",
      "18                            7  \n",
      "19                            3  \n",
      "20                            5  \n",
      "21                           12  \n",
      "22                           18  \n",
      "23                           19  \n",
      "24                            6  \n",
      "25                           20  \n",
      "26                            3  \n",
      "[1993, 1994, 1995, 1996, 1997, 1998, 1999, 2000, 2001, 2002, 2003, 2004, 2005, 2006, 2007, 2008, 2009, 2010, 2011, 2012, 2013, 2014, 2015, 2016, 2017, 2018, 2019]\n"
     ]
    },
    {
     "data": {
      "text/plain": "6.0     4\n3.0     3\n1.0     2\n2.0     2\n5.0     2\n4.0     2\n29.0    1\n57.0    1\n39.0    1\n11.0    1\n0.0     1\n16.0    1\n17.0    1\n45.0    1\n12.0    1\n23.0    1\n7.0     1\nName: incendio_negligencia_numero, dtype: int64"
     },
     "execution_count": 23,
     "metadata": {},
     "output_type": "execute_result"
    }
   ],
   "source": [
    "import pandas as pd\n",
    "import numpy as np\n",
    "df = pd.read_csv(\"../data/incendios-cantidad-causas-parques-nacionales.csv\", sep=\";\", engine=\"python\")\n",
    "print(df)\n",
    "dfIndice = df.set_index('incendio_anio')\n",
    "print(list(dfIndice.index))\n",
    "df['incendio_negligencia_numero'].value_counts()"
   ]
  },
  {
   "cell_type": "code",
   "execution_count": null,
   "outputs": [],
   "source": [],
   "metadata": {
    "collapsed": false,
    "pycharm": {
     "name": "#%%"
    }
   }
  }
 ],
 "metadata": {
  "kernelspec": {
   "display_name": "Python 3",
   "language": "python",
   "name": "python3"
  },
  "language_info": {
   "codemirror_mode": {
    "name": "ipython",
    "version": 3
   },
   "file_extension": ".py",
   "mimetype": "text/x-python",
   "name": "python",
   "nbconvert_exporter": "python",
   "pygments_lexer": "ipython3",
   "version": "3.8.5"
  }
 },
 "nbformat": 4,
 "nbformat_minor": 1
}