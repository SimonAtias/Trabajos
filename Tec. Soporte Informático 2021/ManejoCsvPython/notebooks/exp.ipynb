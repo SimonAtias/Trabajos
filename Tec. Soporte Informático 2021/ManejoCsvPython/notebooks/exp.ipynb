{
 "cells": [
  {
   "cell_type": "code",
   "execution_count": 3,
   "metadata": {
    "pycharm": {
     "name": "#%%\n"
    }
   },
   "outputs": [
    {
     "name": "stdout",
     "output_type": "stream",
     "text": [
      "['Grade', 'Year', 'Category', 'Number Tested', 'Mean Scale Score', 'Level 1 #', 'Level 1 %', 'Level 2 #', 'Level 2 %', 'Level 3 #', 'Level 3 %', 'Level 4 #', 'Level 4 %', 'Level 3+4 #', 'Level 3+4 %']\n"
     ]
    }
   ],
   "source": []
  },
  {
   "cell_type": "code",
   "execution_count": 24,
   "outputs": [
    {
     "name": "stdout",
     "output_type": "stream",
     "text": [
      "     Unnamed: 0       Grade  Year Category  Number Tested  Mean Scale Score  \\\n",
      "0             0           3  2006    Asian           9768               700   \n",
      "1             1           4  2006    Asian           9973               699   \n",
      "2             2           5  2006    Asian           9852               691   \n",
      "3             3           6  2006    Asian           9606               682   \n",
      "4             4           7  2006    Asian           9433               671   \n",
      "..          ...         ...   ...      ...            ...               ...   \n",
      "163         163           5  2011    White          10808               699   \n",
      "164         164           6  2011    White           9875               695   \n",
      "165         165           7  2011    White           9679               690   \n",
      "166         166           8  2011    White           9570               688   \n",
      "167         167  All Grades  2011    White          62193               695   \n",
      "\n",
      "     Level 1 #  Level 1 %  Level 2 #  Level 2 %  Level 3 #  Level 3 %  \\\n",
      "0          243        2.5        543        5.6       4128       42.3   \n",
      "1          294        2.9        600        6.0       4245       42.6   \n",
      "2          369        3.7        907        9.2       4379       44.4   \n",
      "3          452        4.7       1176       12.2       4646       48.4   \n",
      "4          521        5.5       1698       18.0       4690       49.7   \n",
      "..         ...        ...        ...        ...        ...        ...   \n",
      "163        311        2.9       1709       15.8       4532       41.9   \n",
      "164        409        4.1       1818       18.4       3435       34.8   \n",
      "165        423        4.4       1739       18.0       3023       31.2   \n",
      "166        433        4.5       2190       22.9       4142       43.3   \n",
      "167       2418        3.9      11336       18.2      25191       40.5   \n",
      "\n",
      "     Level 4 #  Level 4 %  Level 3+4 #  Level 3+4 %  \n",
      "0         4854       49.7         8982         92.0  \n",
      "1         4834       48.5         9079         91.0  \n",
      "2         4197       42.6         8576         87.0  \n",
      "3         3332       34.7         7978         83.1  \n",
      "4         2524       26.8         7214         76.5  \n",
      "..         ...        ...          ...          ...  \n",
      "163       4256       39.4         8788         81.3  \n",
      "164       4213       42.7         7648         77.4  \n",
      "165       4494       46.4         7517         77.7  \n",
      "166       2805       29.3         6947         72.6  \n",
      "167      23248       37.4        48439         77.9  \n",
      "\n",
      "[168 rows x 16 columns]\n",
      "['Unnamed: 0', 'Grade', 'Year', 'Category', 'Number Tested', 'Mean Scale Score', 'Level 1 #', 'Level 1 %', 'Level 2 #', 'Level 2 %', 'Level 3 #', 'Level 3 %', 'Level 4 #', 'Level 4 %', 'Level 3+4 #', 'Level 3+4 %']\n",
      "0       9768\n",
      "1       9973\n",
      "2       9852\n",
      "3       9606\n",
      "4       9433\n",
      "       ...  \n",
      "163    10808\n",
      "164     9875\n",
      "165     9679\n",
      "166     9570\n",
      "167    62193\n",
      "Name: Number Tested, Length: 168, dtype: int64\n"
     ]
    }
   ],
   "source": [
    "import pandas as pd\n",
    "\n",
    "# Leer\n",
    "df = pd.read_csv(\"../data/2006_-_2011_NYS_Math_Test_Results_by_Grade_-_Citywide_-_by_Race-Ethnicity.csv\")\n",
    "\n",
    "# No es posible setear algo como índice.\n",
    "\n",
    "# Eliminar filas duplicadas:\n",
    "df.drop_duplicates()\n",
    "\n",
    "# Eliminar las filas con valores que no sirven:\n",
    "df.dropna(inplace=True)\n",
    "\n",
    "# Escribir nuevo CSV con los nuevos cambios realizados\n",
    "df.to_csv(\"Math_Results_Modified\")\n",
    "df0 = pd.read_csv(\"Math_Results_Modified\")\n",
    "\n",
    "# Colocar en forma de tabla, las primeras 3000 filas  y luego, las ultimas 2000.\n",
    "df0.loc[0:5]\n",
    "\n",
    "# Imprimir el data frame escrito en el nuevo archivo .csv\n",
    "print(df0)\n",
    "\n",
    "# Imprimir una lista con los nombres de todas las columnas.\n",
    "print(list(df0.columns))\n",
    "\n",
    "# Imprimir los datos de una columna a eleccion\n",
    "print(df['Number Tested'])"
   ],
   "metadata": {
    "collapsed": false,
    "pycharm": {
     "name": "#%%\n"
    }
   }
  },
  {
   "cell_type": "code",
   "execution_count": 17,
   "outputs": [
    {
     "data": {
      "text/plain": "    Unnamed: 0 Grade  Year Category  Number Tested  Mean Scale Score  \\\n21          21     3  2009    Asian          10984               711   \n22          22     4  2009    Asian          10052               716   \n23          23     5  2009    Asian          10046               706   \n24          24     6  2009    Asian          10207               701   \n25          25     7  2009    Asian          10370               700   \n26          26     8  2009    Asian          10385               695   \n\n    Level 1 #  Level 1 %  Level 2 #  Level 2 %  Level 3 #  Level 3 %  \\\n21         43        0.4        216        2.0       5532       50.4   \n22         99        1.0        260        2.6       3312       32.9   \n23         86        0.9        298        3.0       3231       32.2   \n24        143        1.4        512        5.0       3919       38.4   \n25         76        0.7        507        4.9       4166       40.2   \n26        136        1.3        803        7.7       5111       49.2   \n\n    Level 4 #  Level 4 %  Level 3+4 #  Level 3+4 %  \n21       5193       47.3        10725         97.6  \n22       6381       63.5         9693         96.4  \n23       6431       64.0         9662         96.2  \n24       5633       55.2         9552         93.6  \n25       5621       54.2         9787         94.4  \n26       4335       41.7         9446         91.0  ",
      "text/html": "<div>\n<style scoped>\n    .dataframe tbody tr th:only-of-type {\n        vertical-align: middle;\n    }\n\n    .dataframe tbody tr th {\n        vertical-align: top;\n    }\n\n    .dataframe thead th {\n        text-align: right;\n    }\n</style>\n<table border=\"1\" class=\"dataframe\">\n  <thead>\n    <tr style=\"text-align: right;\">\n      <th></th>\n      <th>Unnamed: 0</th>\n      <th>Grade</th>\n      <th>Year</th>\n      <th>Category</th>\n      <th>Number Tested</th>\n      <th>Mean Scale Score</th>\n      <th>Level 1 #</th>\n      <th>Level 1 %</th>\n      <th>Level 2 #</th>\n      <th>Level 2 %</th>\n      <th>Level 3 #</th>\n      <th>Level 3 %</th>\n      <th>Level 4 #</th>\n      <th>Level 4 %</th>\n      <th>Level 3+4 #</th>\n      <th>Level 3+4 %</th>\n    </tr>\n  </thead>\n  <tbody>\n    <tr>\n      <th>21</th>\n      <td>21</td>\n      <td>3</td>\n      <td>2009</td>\n      <td>Asian</td>\n      <td>10984</td>\n      <td>711</td>\n      <td>43</td>\n      <td>0.4</td>\n      <td>216</td>\n      <td>2.0</td>\n      <td>5532</td>\n      <td>50.4</td>\n      <td>5193</td>\n      <td>47.3</td>\n      <td>10725</td>\n      <td>97.6</td>\n    </tr>\n    <tr>\n      <th>22</th>\n      <td>22</td>\n      <td>4</td>\n      <td>2009</td>\n      <td>Asian</td>\n      <td>10052</td>\n      <td>716</td>\n      <td>99</td>\n      <td>1.0</td>\n      <td>260</td>\n      <td>2.6</td>\n      <td>3312</td>\n      <td>32.9</td>\n      <td>6381</td>\n      <td>63.5</td>\n      <td>9693</td>\n      <td>96.4</td>\n    </tr>\n    <tr>\n      <th>23</th>\n      <td>23</td>\n      <td>5</td>\n      <td>2009</td>\n      <td>Asian</td>\n      <td>10046</td>\n      <td>706</td>\n      <td>86</td>\n      <td>0.9</td>\n      <td>298</td>\n      <td>3.0</td>\n      <td>3231</td>\n      <td>32.2</td>\n      <td>6431</td>\n      <td>64.0</td>\n      <td>9662</td>\n      <td>96.2</td>\n    </tr>\n    <tr>\n      <th>24</th>\n      <td>24</td>\n      <td>6</td>\n      <td>2009</td>\n      <td>Asian</td>\n      <td>10207</td>\n      <td>701</td>\n      <td>143</td>\n      <td>1.4</td>\n      <td>512</td>\n      <td>5.0</td>\n      <td>3919</td>\n      <td>38.4</td>\n      <td>5633</td>\n      <td>55.2</td>\n      <td>9552</td>\n      <td>93.6</td>\n    </tr>\n    <tr>\n      <th>25</th>\n      <td>25</td>\n      <td>7</td>\n      <td>2009</td>\n      <td>Asian</td>\n      <td>10370</td>\n      <td>700</td>\n      <td>76</td>\n      <td>0.7</td>\n      <td>507</td>\n      <td>4.9</td>\n      <td>4166</td>\n      <td>40.2</td>\n      <td>5621</td>\n      <td>54.2</td>\n      <td>9787</td>\n      <td>94.4</td>\n    </tr>\n    <tr>\n      <th>26</th>\n      <td>26</td>\n      <td>8</td>\n      <td>2009</td>\n      <td>Asian</td>\n      <td>10385</td>\n      <td>695</td>\n      <td>136</td>\n      <td>1.3</td>\n      <td>803</td>\n      <td>7.7</td>\n      <td>5111</td>\n      <td>49.2</td>\n      <td>4335</td>\n      <td>41.7</td>\n      <td>9446</td>\n      <td>91.0</td>\n    </tr>\n  </tbody>\n</table>\n</div>"
     },
     "execution_count": 17,
     "metadata": {},
     "output_type": "execute_result"
    }
   ],
   "source": [
    "df0.loc[21:26]"
   ],
   "metadata": {
    "collapsed": false,
    "pycharm": {
     "name": "#%%"
    }
   }
  },
  {
   "cell_type": "code",
   "execution_count": 21,
   "outputs": [
    {
     "data": {
      "text/plain": "    Unnamed: 0 Grade  Year Category  Number Tested  Mean Scale Score  \\\n1            1     4  2006    Asian           9973               699   \n5            5     8  2006    Asian           9593               675   \n12          12     8  2007    Asian           9734               681   \n36          36     4  2011    Asian          10743               708   \n\n    Level 1 #  Level 1 %  Level 2 #  Level 2 %  Level 3 #  Level 3 %  \\\n1         294        2.9        600        6.0       4245       42.6   \n5         671        7.0       1847       19.3       4403       45.9   \n12        466        4.8       1537       15.8       4661       47.9   \n36        212        2.0       1269       11.8       3597       33.5   \n\n    Level 4 #  Level 4 %  Level 3+4 #  Level 3+4 %  \n1        4834       48.5         9079         91.0  \n5        2672       27.9         7075         73.8  \n12       3070       31.5         7731         79.4  \n36       5665       52.7         9262         86.2  ",
      "text/html": "<div>\n<style scoped>\n    .dataframe tbody tr th:only-of-type {\n        vertical-align: middle;\n    }\n\n    .dataframe tbody tr th {\n        vertical-align: top;\n    }\n\n    .dataframe thead th {\n        text-align: right;\n    }\n</style>\n<table border=\"1\" class=\"dataframe\">\n  <thead>\n    <tr style=\"text-align: right;\">\n      <th></th>\n      <th>Unnamed: 0</th>\n      <th>Grade</th>\n      <th>Year</th>\n      <th>Category</th>\n      <th>Number Tested</th>\n      <th>Mean Scale Score</th>\n      <th>Level 1 #</th>\n      <th>Level 1 %</th>\n      <th>Level 2 #</th>\n      <th>Level 2 %</th>\n      <th>Level 3 #</th>\n      <th>Level 3 %</th>\n      <th>Level 4 #</th>\n      <th>Level 4 %</th>\n      <th>Level 3+4 #</th>\n      <th>Level 3+4 %</th>\n    </tr>\n  </thead>\n  <tbody>\n    <tr>\n      <th>1</th>\n      <td>1</td>\n      <td>4</td>\n      <td>2006</td>\n      <td>Asian</td>\n      <td>9973</td>\n      <td>699</td>\n      <td>294</td>\n      <td>2.9</td>\n      <td>600</td>\n      <td>6.0</td>\n      <td>4245</td>\n      <td>42.6</td>\n      <td>4834</td>\n      <td>48.5</td>\n      <td>9079</td>\n      <td>91.0</td>\n    </tr>\n    <tr>\n      <th>5</th>\n      <td>5</td>\n      <td>8</td>\n      <td>2006</td>\n      <td>Asian</td>\n      <td>9593</td>\n      <td>675</td>\n      <td>671</td>\n      <td>7.0</td>\n      <td>1847</td>\n      <td>19.3</td>\n      <td>4403</td>\n      <td>45.9</td>\n      <td>2672</td>\n      <td>27.9</td>\n      <td>7075</td>\n      <td>73.8</td>\n    </tr>\n    <tr>\n      <th>12</th>\n      <td>12</td>\n      <td>8</td>\n      <td>2007</td>\n      <td>Asian</td>\n      <td>9734</td>\n      <td>681</td>\n      <td>466</td>\n      <td>4.8</td>\n      <td>1537</td>\n      <td>15.8</td>\n      <td>4661</td>\n      <td>47.9</td>\n      <td>3070</td>\n      <td>31.5</td>\n      <td>7731</td>\n      <td>79.4</td>\n    </tr>\n    <tr>\n      <th>36</th>\n      <td>36</td>\n      <td>4</td>\n      <td>2011</td>\n      <td>Asian</td>\n      <td>10743</td>\n      <td>708</td>\n      <td>212</td>\n      <td>2.0</td>\n      <td>1269</td>\n      <td>11.8</td>\n      <td>3597</td>\n      <td>33.5</td>\n      <td>5665</td>\n      <td>52.7</td>\n      <td>9262</td>\n      <td>86.2</td>\n    </tr>\n  </tbody>\n</table>\n</div>"
     },
     "execution_count": 21,
     "metadata": {},
     "output_type": "execute_result"
    }
   ],
   "source": [
    "# Colocar en forma de tabla las filas 1, 5, 12, 36.\n",
    "df0.loc[[1,5,12,36]]"
   ],
   "metadata": {
    "collapsed": false,
    "pycharm": {
     "name": "#%%\n"
    }
   }
  }
 ],
 "metadata": {
  "kernelspec": {
   "display_name": "Python 3",
   "language": "python",
   "name": "python3"
  },
  "language_info": {
   "codemirror_mode": {
    "name": "ipython",
    "version": 3
   },
   "file_extension": ".py",
   "mimetype": "text/x-python",
   "name": "python",
   "nbconvert_exporter": "python",
   "pygments_lexer": "ipython3",
   "version": "3.8.5"
  }
 },
 "nbformat": 4,
 "nbformat_minor": 1
}