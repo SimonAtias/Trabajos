{
 "cells": [
  {
   "cell_type": "code",
   "execution_count": 11,
   "metadata": {
    "collapsed": true
   },
   "outputs": [
    {
     "name": "stdout",
     "output_type": "stream",
     "text": [
      "61\n"
     ]
    }
   ],
   "source": [
    "import pandas as pd\n",
    "import numpy as np\n",
    "import matplotlib as hbc\n",
    "\n",
    "df1 = pd.read_csv(\"../data/TaylorSwiftForm.csv\")\n",
    "# album_names = [\"Taylor Swift\", \"Fearless (Taylor's Version)\", \"Speak Now\", \"Red\", \"1989\", \"reputation\", \"Lover\", \"folklore\", \"evermore\"]\n",
    "print(df1[\"Best Album\"].value_counts()[\"folklore\"])\n",
    "\n",
    "category_names = ['Best album', 'Least favorite album', 'Best arack five', 'Best album opener']\n",
    "\n",
    "results = {\n",
    "    'Taylor Swift': [df1[\"Best Album\"].value_counts()[\"Debut\"], df1[\"Least Favorite Album\"].value_counts()[\"Debut\"], df1[\"Favorite Track five\"].value_counts()[\"Cold As You\"], df1[\"Favorite Album Opener\"].value_counts()[\"Tim McGraw\"]],\n",
    "    \"Fearless\": [df1[\"Best Album\"].value_counts()[\"Fearless\"], df1[\"Least Favorite Album\"].value_counts()[\"Fearless\"], df1[\"Favorite Track five\"].value_counts()[\"White Horse\"], df1[\"Favorite Album Opener\"].value_counts()[\"Fearless\"]],\n",
    "    \"Red\": [df1[\"Best Album\"].value_counts()[\"Red\"], df1[\"Least Favorite Album\"].value_counts()[\"Red\"], df1[\"Favorite Track five\"].value_counts()[\"All Too Well\"], df1[\"Favorite Album Opener\"].value_counts()[\"State Of Grace\"]],\n",
    "    \"1989\": [df1[\"Best Album\"].value_counts()[\"1989\"], df1[\"Least Favorite Album\"].value_counts()[\"1989\"], df1[\"Favorite Track five\"].value_counts()[\"All You Had To Do Was Stay\"], df1[\"Favorite Album Opener\"].value_counts()[\"Welcome To New York\"]],\n",
    "    \"reputation\": [df1[\"Best Album\"].value_counts()[\"reputation\"], df1[\"Least Favorite Album\"].value_counts()[\"reputation\"], df1[\"Favorite Track five\"].value_counts()[\"Delicate\"], df1[\"Favorite Album Opener\"].value_counts()[\"...Ready For It?\"]],\n",
    "    \"Lover\": [df1[\"Best Album\"].value_counts()[\"Lover\"], df1[\"Least Favorite Album\"].value_counts()[\"Lover\"], df1[\"Favorite Track five\"].value_counts()[\"The Archer\"], df1[\"Favorite Album Opener\"].value_counts()[\"I Forgot That You Existed\"]],\n",
    "    \"folklore\": [df1[\"Best Album\"].value_counts()[\"folklore\"], df1[\"Least Favorite Album\"].value_counts()[\"folklore\"], df1[\"Favorite Track five\"].value_counts()[\"my tears ricochet\"], df1[\"Favorite Album Opener\"].value_counts()[\"the 1\"]],\n",
    "    \"evermore\": [df1[\"Best Album\"].value_counts()[\"evermore\"], df1[\"Least Favorite Album\"].value_counts()[\"evermore\"], df1[\"Favorite Track five\"].value_counts()[\"tolerate it\"], df1[\"Favorite Album Opener\"].value_counts()[\"willow\"]]\n",
    "}\n",
    "\n",
    "\n",
    "\n",
    "\n"
   ]
  },
  {
   "cell_type": "code",
   "execution_count": null,
   "outputs": [],
   "source": [],
   "metadata": {
    "collapsed": false,
    "pycharm": {
     "name": "#%%\n"
    }
   }
  }
 ],
 "metadata": {
  "kernelspec": {
   "display_name": "Python 3",
   "language": "python",
   "name": "python3"
  },
  "language_info": {
   "codemirror_mode": {
    "name": "ipython",
    "version": 2
   },
   "file_extension": ".py",
   "mimetype": "text/x-python",
   "name": "python",
   "nbconvert_exporter": "python",
   "pygments_lexer": "ipython2",
   "version": "2.7.6"
  }
 },
 "nbformat": 4,
 "nbformat_minor": 0
}