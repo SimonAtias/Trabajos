{
 "cells": [
  {
   "cell_type": "code",
   "execution_count": 2,
   "metadata": {
    "collapsed": true
   },
   "outputs": [
    {
     "name": "stdout",
     "output_type": "stream",
     "text": [
      "61\n"
     ]
    },
    {
     "ename": "AttributeError",
     "evalue": "'AxesSubplot' object has no attribute 'bar_label'",
     "output_type": "error",
     "traceback": [
      "\u001B[0;31m---------------------------------------------------------------------------\u001B[0m",
      "\u001B[0;31mAttributeError\u001B[0m                            Traceback (most recent call last)",
      "\u001B[0;32m<ipython-input-2-ed75b08b3832>\u001B[0m in \u001B[0;36m<module>\u001B[0;34m\u001B[0m\n\u001B[1;32m     58\u001B[0m \u001B[0;34m\u001B[0m\u001B[0m\n\u001B[1;32m     59\u001B[0m \u001B[0;34m\u001B[0m\u001B[0m\n\u001B[0;32m---> 60\u001B[0;31m \u001B[0msurvey\u001B[0m\u001B[0;34m(\u001B[0m\u001B[0mresults\u001B[0m\u001B[0;34m,\u001B[0m \u001B[0mcategory_names\u001B[0m\u001B[0;34m)\u001B[0m\u001B[0;34m\u001B[0m\u001B[0;34m\u001B[0m\u001B[0m\n\u001B[0m\u001B[1;32m     61\u001B[0m \u001B[0mplt\u001B[0m\u001B[0;34m.\u001B[0m\u001B[0mshow\u001B[0m\u001B[0;34m(\u001B[0m\u001B[0;34m)\u001B[0m\u001B[0;34m\u001B[0m\u001B[0;34m\u001B[0m\u001B[0m\n\u001B[1;32m     62\u001B[0m \u001B[0;34m\u001B[0m\u001B[0m\n",
      "\u001B[0;32m<ipython-input-2-ed75b08b3832>\u001B[0m in \u001B[0;36msurvey\u001B[0;34m(results, category_names)\u001B[0m\n\u001B[1;32m     51\u001B[0m         \u001B[0mr\u001B[0m\u001B[0;34m,\u001B[0m \u001B[0mg\u001B[0m\u001B[0;34m,\u001B[0m \u001B[0mb\u001B[0m\u001B[0;34m,\u001B[0m \u001B[0m_\u001B[0m \u001B[0;34m=\u001B[0m \u001B[0mcolor\u001B[0m\u001B[0;34m\u001B[0m\u001B[0;34m\u001B[0m\u001B[0m\n\u001B[1;32m     52\u001B[0m         \u001B[0mtext_color\u001B[0m \u001B[0;34m=\u001B[0m \u001B[0;34m'white'\u001B[0m \u001B[0;32mif\u001B[0m \u001B[0mr\u001B[0m \u001B[0;34m*\u001B[0m \u001B[0mg\u001B[0m \u001B[0;34m*\u001B[0m \u001B[0mb\u001B[0m \u001B[0;34m<\u001B[0m \u001B[0;36m0.5\u001B[0m \u001B[0;32melse\u001B[0m \u001B[0;34m'darkgrey'\u001B[0m\u001B[0;34m\u001B[0m\u001B[0;34m\u001B[0m\u001B[0m\n\u001B[0;32m---> 53\u001B[0;31m         \u001B[0max\u001B[0m\u001B[0;34m.\u001B[0m\u001B[0mbar_label\u001B[0m\u001B[0;34m(\u001B[0m\u001B[0mrects\u001B[0m\u001B[0;34m,\u001B[0m \u001B[0mlabel_type\u001B[0m\u001B[0;34m=\u001B[0m\u001B[0;34m'center'\u001B[0m\u001B[0;34m,\u001B[0m \u001B[0mcolor\u001B[0m\u001B[0;34m=\u001B[0m\u001B[0mtext_color\u001B[0m\u001B[0;34m)\u001B[0m\u001B[0;34m\u001B[0m\u001B[0;34m\u001B[0m\u001B[0m\n\u001B[0m\u001B[1;32m     54\u001B[0m     ax.legend(ncol=len(category_names), bbox_to_anchor=(0, 1),\n\u001B[1;32m     55\u001B[0m               loc='lower left', fontsize='small')\n",
      "\u001B[0;31mAttributeError\u001B[0m: 'AxesSubplot' object has no attribute 'bar_label'"
     ]
    },
    {
     "data": {
      "text/plain": "<Figure size 662.4x360 with 1 Axes>",
      "image/png": "[encoded data removed]"
     },
     "metadata": {
      "needs_background": "light"
     },
     "output_type": "display_data"
    }
   ],
   "source": [
    "import pandas as pd\n",
    "import numpy as np\n",
    "import matplotlib.pyplot as plt\n",
    "#import matplotlib.axes as ax\n",
    "\n",
    "df1 = pd.read_csv(\"../data/TaylorSwiftForm.csv\")\n",
    "# album_names = [\"Taylor Swift\", \"Fearless (Taylor's Version)\", \"Speak Now\", \"Red\", \"1989\", \"reputation\", \"Lover\", \"folklore\", \"evermore\"]\n",
    "print(df1[\"Best Album\"].value_counts()[\"folklore\"])\n",
    "\n",
    "category_names = ['Best album', 'Least favorite album', 'Best arack five', 'Best album opener']\n",
    "\n",
    "results = {\n",
    "    'Taylor Swift': [df1[\"Best Album\"].value_counts()[\"Debut\"], df1[\"Least Favorite Album\"].value_counts()[\"Debut\"], df1[\"Favorite Track five\"].value_counts()[\"Cold As You\"], df1[\"Favorite Album Opener\"].value_counts()[\"Tim McGraw\"]],\n",
    "    \"Fearless\": [df1[\"Best Album\"].value_counts()[\"Fearless\"], df1[\"Least Favorite Album\"].value_counts()[\"Fearless\"], df1[\"Favorite Track five\"].value_counts()[\"White Horse\"], df1[\"Favorite Album Opener\"].value_counts()[\"Fearless\"]],\n",
    "    \"Red\": [df1[\"Best Album\"].value_counts()[\"Red\"], df1[\"Least Favorite Album\"].value_counts()[\"Red\"], df1[\"Favorite Track five\"].value_counts()[\"All Too Well\"], df1[\"Favorite Album Opener\"].value_counts()[\"State Of Grace\"]],\n",
    "    \"1989\": [df1[\"Best Album\"].value_counts()[\"1989\"], df1[\"Least Favorite Album\"].value_counts()[\"1989\"], df1[\"Favorite Track five\"].value_counts()[\"All You Had To Do Was Stay\"], df1[\"Favorite Album Opener\"].value_counts()[\"Welcome To New York\"]],\n",
    "    \"reputation\": [df1[\"Best Album\"].value_counts()[\"reputation\"], df1[\"Least Favorite Album\"].value_counts()[\"reputation\"], df1[\"Favorite Track five\"].value_counts()[\"Delicate\"], df1[\"Favorite Album Opener\"].value_counts()[\"...Ready For It?\"]],\n",
    "    \"Lover\": [df1[\"Best Album\"].value_counts()[\"Lover\"], df1[\"Least Favorite Album\"].value_counts()[\"Lover\"], df1[\"Favorite Track five\"].value_counts()[\"The Archer\"], df1[\"Favorite Album Opener\"].value_counts()[\"I Forgot That You Existed\"]],\n",
    "    \"folklore\": [df1[\"Best Album\"].value_counts()[\"folklore\"], df1[\"Least Favorite Album\"].value_counts()[\"folklore\"], df1[\"Favorite Track five\"].value_counts()[\"my tears ricochet\"], df1[\"Favorite Album Opener\"].value_counts()[\"the 1\"]],\n",
    "    \"evermore\": [df1[\"Best Album\"].value_counts()[\"evermore\"], df1[\"Least Favorite Album\"].value_counts()[\"evermore\"], df1[\"Favorite Track five\"].value_counts()[\"tolerate it\"], df1[\"Favorite Album Opener\"].value_counts()[\"willow\"]]\n",
    "}\n",
    "\n",
    "def survey(results, category_names):\n",
    "    \"\"\"\n",
    "    Parameters\n",
    "    ----------\n",
    "    results : dict\n",
    "        A mapping from question labels to a list of answers per category.\n",
    "        It is assumed all lists contain the same number of entries and that\n",
    "        it matches the length of *category_names*.\n",
    "    category_names : list of str\n",
    "        The category labels.\n",
    "    \"\"\"\n",
    "    labels = list(results.keys())\n",
    "    data = np.array(list(results.values()))\n",
    "    data_cum = data.cumsum(axis=1)\n",
    "    category_colors = plt.get_cmap('RdYlGn')(\n",
    "        np.linspace(0.15, 0.85, data.shape[1]))\n",
    "\n",
    "    fig, ax = plt.subplots(figsize=(9.2, 5))\n",
    "    ax.invert_yaxis()\n",
    "    ax.xaxis.set_visible(False)\n",
    "    ax.set_xlim(0, np.sum(data, axis=1).max())\n",
    "\n",
    "    for i, (colname, color) in enumerate(zip(category_names, category_colors)):\n",
    "        widths = data[:, i]\n",
    "        starts = data_cum[:, i] - widths\n",
    "        rects = ax.barh(labels, widths, left=starts, height=0.5,\n",
    "                        label=colname, color=color)\n",
    "\n",
    "        r, g, b, _ = color\n",
    "        text_color = 'white' if r * g * b < 0.5 else 'darkgrey'\n",
    "        ax.bar_label(rects, label_type='center', color=text_color)\n",
    "    ax.legend(ncol=len(category_names), bbox_to_anchor=(0, 1),\n",
    "              loc='lower left', fontsize='small')\n",
    "\n",
    "    return fig, ax\n",
    "\n",
    "\n",
    "survey(results, category_names)\n",
    "plt.show()\n",
    "\n",
    "\n",
    "\n",
    "\n",
    "\n"
   ]
  },
  {
   "cell_type": "code",
   "execution_count": 3,
   "outputs": [
    {
     "ename": "AttributeError",
     "evalue": "'AxesSubplot' object has no attribute 'bar_label'",
     "output_type": "error",
     "traceback": [
      "\u001B[0;31m---------------------------------------------------------------------------\u001B[0m",
      "\u001B[0;31mAttributeError\u001B[0m                            Traceback (most recent call last)",
      "\u001B[0;32m<ipython-input-3-6d36e55887db>\u001B[0m in \u001B[0;36m<module>\u001B[0;34m\u001B[0m\n\u001B[1;32m     11\u001B[0m \u001B[0;34m\u001B[0m\u001B[0m\n\u001B[1;32m     12\u001B[0m \u001B[0;34m\u001B[0m\u001B[0m\n\u001B[0;32m---> 13\u001B[0;31m \u001B[0msurvey\u001B[0m\u001B[0;34m(\u001B[0m\u001B[0mresults\u001B[0m\u001B[0;34m,\u001B[0m \u001B[0mcategory_names\u001B[0m\u001B[0;34m)\u001B[0m\u001B[0;34m\u001B[0m\u001B[0;34m\u001B[0m\u001B[0m\n\u001B[0m\u001B[1;32m     14\u001B[0m \u001B[0mplt\u001B[0m\u001B[0;34m.\u001B[0m\u001B[0mshow\u001B[0m\u001B[0;34m(\u001B[0m\u001B[0;34m)\u001B[0m\u001B[0;34m\u001B[0m\u001B[0;34m\u001B[0m\u001B[0m\n\u001B[1;32m     15\u001B[0m \u001B[0;34m\u001B[0m\u001B[0m\n",
      "\u001B[0;32m<ipython-input-2-ed75b08b3832>\u001B[0m in \u001B[0;36msurvey\u001B[0;34m(results, category_names)\u001B[0m\n\u001B[1;32m     51\u001B[0m         \u001B[0mr\u001B[0m\u001B[0;34m,\u001B[0m \u001B[0mg\u001B[0m\u001B[0;34m,\u001B[0m \u001B[0mb\u001B[0m\u001B[0;34m,\u001B[0m \u001B[0m_\u001B[0m \u001B[0;34m=\u001B[0m \u001B[0mcolor\u001B[0m\u001B[0;34m\u001B[0m\u001B[0;34m\u001B[0m\u001B[0m\n\u001B[1;32m     52\u001B[0m         \u001B[0mtext_color\u001B[0m \u001B[0;34m=\u001B[0m \u001B[0;34m'white'\u001B[0m \u001B[0;32mif\u001B[0m \u001B[0mr\u001B[0m \u001B[0;34m*\u001B[0m \u001B[0mg\u001B[0m \u001B[0;34m*\u001B[0m \u001B[0mb\u001B[0m \u001B[0;34m<\u001B[0m \u001B[0;36m0.5\u001B[0m \u001B[0;32melse\u001B[0m \u001B[0;34m'darkgrey'\u001B[0m\u001B[0;34m\u001B[0m\u001B[0;34m\u001B[0m\u001B[0m\n\u001B[0;32m---> 53\u001B[0;31m         \u001B[0max\u001B[0m\u001B[0;34m.\u001B[0m\u001B[0mbar_label\u001B[0m\u001B[0;34m(\u001B[0m\u001B[0mrects\u001B[0m\u001B[0;34m,\u001B[0m \u001B[0mlabel_type\u001B[0m\u001B[0;34m=\u001B[0m\u001B[0;34m'center'\u001B[0m\u001B[0;34m,\u001B[0m \u001B[0mcolor\u001B[0m\u001B[0;34m=\u001B[0m\u001B[0mtext_color\u001B[0m\u001B[0;34m)\u001B[0m\u001B[0;34m\u001B[0m\u001B[0;34m\u001B[0m\u001B[0m\n\u001B[0m\u001B[1;32m     54\u001B[0m     ax.legend(ncol=len(category_names), bbox_to_anchor=(0, 1),\n\u001B[1;32m     55\u001B[0m               loc='lower left', fontsize='small')\n",
      "\u001B[0;31mAttributeError\u001B[0m: 'AxesSubplot' object has no attribute 'bar_label'"
     ]
    },
    {
     "data": {
      "text/plain": "<Figure size 662.4x360 with 1 Axes>",
      "image/png": "[encoded data removed]"
     },
     "metadata": {
      "needs_background": "light"
     },
     "output_type": "display_data"
    }
   ],
   "source": [
    "category_names = ['Strongly disagree', 'Disagree',\n",
    "                  'Neither agree nor disagree', 'Agree', 'Strongly agree']\n",
    "results = {\n",
    "    'Question 1': [10, 15, 17, 32, 26],\n",
    "    'Question 2': [26, 22, 29, 10, 13],\n",
    "    'Question 3': [35, 37, 7, 2, 19],\n",
    "    'Question 4': [32, 11, 9, 15, 33],\n",
    "    'Question 5': [21, 29, 5, 5, 40],\n",
    "    'Question 6': [8, 19, 5, 30, 38]\n",
    "}\n",
    "\n",
    "\n",
    "survey(results, category_names)\n",
    "plt.show()\n"
   ],
   "metadata": {
    "collapsed": false,
    "pycharm": {
     "name": "#%%\n"
    }
   }
  }
 ],
 "metadata": {
  "kernelspec": {
   "display_name": "Python 3",
   "language": "python",
   "name": "python3"
  },
  "language_info": {
   "codemirror_mode": {
    "name": "ipython",
    "version": 2
   },
   "file_extension": ".py",
   "mimetype": "text/x-python",
   "name": "python",
   "nbconvert_exporter": "python",
   "pygments_lexer": "ipython2",
   "version": "2.7.6"
  }
 },
 "nbformat": 4,
 "nbformat_minor": 0
}